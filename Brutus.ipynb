{
 "cells": [
  {
   "cell_type": "markdown",
   "metadata": {},
   "source": [
    "# Brutus (aka Allowen)\n",
    "\n",
    "\n",
    "## What\n",
    "Auto-trailhead bot taker, thanks to the magic of Selenium.\n",
    "\n",
    "## Why\n",
    "My management (mid-management) keep insisting on us taking trailheads (which is a good thing), *except* that it forces us to:\n",
    "* Take trailheads that are not relevant to our roles.\n",
    "* They don't want to allocate time for us to take them, forcing us to either lower our already crazy utilization targets or doing overtime.\n",
    "* They don't care if we do _well_. They only care that we passed the trailheads.\n",
    "\n",
    "I also think it would make for a neat selenium full project, which I haven't gotten time to do since I did an org creator automator more than a year ago.\n",
    "\n",
    "I'm also very curious to know how many units/points can be achieved using this silly approach."
   ]
  },
  {
   "cell_type": "markdown",
   "metadata": {},
   "source": [
    "## The code\n",
    "\n",
    "The gist is:\n",
    "\n",
    "1. Load dependencies\n",
    "2. Open trailhead URL (modules page)\n",
    "3. Login using gmail credentials (you should have a user for this already, set in the .env file)\n",
    "4. Optional: get the list of all the modules, including their URLs\n",
    "5. Optional: for each module, get the list of all the units, including their URLs\n",
    "6. Crawl the list of units, attempting to solve them one by one. Update the json file with the results."
   ]
  },
  {
   "cell_type": "code",
   "execution_count": 2,
   "metadata": {
    "collapsed": true
   },
   "outputs": [],
   "source": [
    "# Load Dependencies\n",
    "import os\n",
    "import urllib\n",
    "import json\n",
    "import time\n",
    "from dotenv import load_dotenv, find_dotenv\n",
    "from selenium import webdriver\n",
    "from selenium.webdriver.common.keys import Keys\n",
    "from selenium.webdriver.support.wait import WebDriverWait\n",
    "from selenium.webdriver.support import expected_conditions as EC\n",
    "from selenium.webdriver.common.by import By\n",
    "from selenium.common.exceptions import NoSuchElementException, StaleElementReferenceException"
   ]
  },
  {
   "cell_type": "code",
   "execution_count": 3,
   "metadata": {
    "collapsed": true
   },
   "outputs": [],
   "source": [
    "# Initialize variables, including webdriver\n",
    "load_dotenv(find_dotenv())\n",
    "driver = webdriver.Firefox(executable_path=os.environ['WEBDRIVER_PATH'])\n",
    "\n",
    "wait = WebDriverWait(driver, 10, 1.0)\n",
    "timeout = 10000"
   ]
  },
  {
   "cell_type": "code",
   "execution_count": 4,
   "metadata": {
    "collapsed": true
   },
   "outputs": [],
   "source": [
    "# Login using gmail credentials\n",
    "def googleLogin(driver):\n",
    "    #login button + modal\n",
    "    driver.find_element(By.XPATH,\"//button[@value='login']\").click()\n",
    "    driver.find_element(By.CLASS_NAME,'th-modal-btn__google').click()\n",
    "    #login oauth page\n",
    "    wait.until(EC.presence_of_element_located((By.ID,'identifierId')))\n",
    "    driver.find_element(By.ID, 'identifierId').send_keys(os.environ['BRUTUS_USER'])\n",
    "    driver.find_element(By.ID, 'identifierNext').click()\n",
    "    wait.until(EC.element_to_be_clickable((By.ID,'passwordNext')))\n",
    "    driver.find_element(By.XPATH,\"//div[@id='password']//input\").send_keys(os.environ['BRUTUS_PASSWORD'])\n",
    "    driver.find_element(By.ID, 'passwordNext').click()\n"
   ]
  },
  {
   "cell_type": "markdown",
   "metadata": {},
   "source": [
    "Function to create a list of trailheads"
   ]
  },
  {
   "cell_type": "code",
   "execution_count": 5,
   "metadata": {
    "collapsed": true
   },
   "outputs": [],
   "source": [
    "#get the list of all the modules, including their URLs\n",
    "def crawlModules(driver):\n",
    "    tTitle,tDesc,tURL,tDur,tUnits= [],[],[],[],[]\n",
    "    trails=driver.find_elements_by_tag_name(\"article\")\n",
    "    \n",
    "    print(str(len(trails)) + \" trails found\")\n",
    "    \n",
    "    for trail in trails:\n",
    "        trail_title=trail.find_element_by_xpath(\".//a\").get_attribute(\"title\")\n",
    "        trail_description=trail.find_element_by_class_name(\"tile-description\").text\n",
    "        trail_url=trail.find_element_by_xpath(\".//a\").get_attribute(\"href\")\n",
    "        trail_duration=trail.find_element_by_class_name(\"progress-text\").text\n",
    "        trail_unitsAux=trail.find_element_by_class_name(\"th-button--popover-trigger\").text\n",
    "        units_extra=len(trail_unitsAux)-11\n",
    "        trail_units=trail_unitsAux[:units_extra]\n",
    "\n",
    "        tTitle.append(trail_title.strip())\n",
    "        tDesc.append(trail_description.strip())\n",
    "        tURL.append(trail_url.strip())\n",
    "        tDur.append(trail_duration.strip())\n",
    "        tUnits.append(trail_units.strip())\n",
    "\n",
    "    trails_json = [{\"Title\":t,\"Description\":d,\"URL\":url,\"Duration\":dur,\"Units\":u,\"Done\":\"False\",\"UnitDetails\":\"\"} for\n",
    "                  t,d,url,dur,u in zip(tTitle,tDesc,tURL,tDur,tUnits)]\n",
    "\n",
    "    return trails_json"
   ]
  },
  {
   "cell_type": "code",
   "execution_count": 6,
   "metadata": {
    "collapsed": true
   },
   "outputs": [],
   "source": [
    "#For each unit in a module, get the titles and urls and update the trails array\n",
    "def crawlUnits(driver,trails_json):\n",
    "    for trail in trails_json:\n",
    "        qTitle,qURL = [],[]\n",
    "        driver.get(trail[\"URL\"])\n",
    "\n",
    "        units=driver.find_elements_by_xpath(\"//ul[@class='trailhead-child-items']/li\")\n",
    "        for unit in units:\n",
    "            unit_title=unit.find_element_by_xpath(\".//a//h3\").text\n",
    "            unit_url=unit.find_element_by_xpath(\".//a\").get_attribute(\"href\")\n",
    "            qTitle.append(unit_title)\n",
    "            qURL.append(unit_url)\n",
    "\n",
    "        trail[\"UnitDetails\"]=[{\"Title\":t,\"URL\":url,\"Questions\":\"\"} for\n",
    "              t,url in zip(qTitle,qURL)]\n",
    "\n",
    "    return trails_json"
   ]
  },
  {
   "cell_type": "code",
   "execution_count": 7,
   "metadata": {
    "collapsed": true
   },
   "outputs": [],
   "source": [
    "# Crawl the list of units, attempting to solve them one by one.\n",
    "def answerUnits(driver,trails_json):\n",
    "    for trail in trails_json:\n",
    "        # check if the \"Done\" value is \"False\"\n",
    "        if (trail[\"Done\"] == \"False\") or (trail[\"Done\"] == \"Skip\"):\n",
    "            \n",
    "            units=trail[\"UnitDetails\"]\n",
    "            \n",
    "            for unit in units:\n",
    "                qQuestions,qOptions,qAnswers= [],[],[]\n",
    "                tIndex = 0 # how many times the quiz have been done?\n",
    "                tSuccess = False\n",
    "                \n",
    "                driver.get(unit[\"URL\"])\n",
    "                \n",
    "                try:\n",
    "                    unitQuiz=driver.find_element(By.CLASS_NAME,'th-quiz')\n",
    "                    questions=unitQuiz.find_elements(By.CLASS_NAME,'th-quiz__question')                        \n",
    "                    # print(str(len(questions)) + \" questions found\" )\n",
    "                    \n",
    "                    # initialize the questions array\n",
    "                    for aux in range (0,len(questions)):\n",
    "                        qQuestions.append(questions[aux].find_element(By.CLASS_NAME,'th-quiz__question-text').text)\n",
    "                        qOptions.append(0)\n",
    "                        qAnswers.append('')\n",
    "                    \n",
    "                    # try to solve the unit, one submit at a time\n",
    "                    oIndex = 0\n",
    "                    qDone = 0\n",
    "                    while (qDone <= len(questions)):\n",
    "                        # for each question, pick the answer x\n",
    "                        # if it doesn't work, pick answer x+1 and so on\n",
    "                        # at the end of the loop, always click submit\n",
    "                        qIndex = 0\n",
    "                        qDone=0\n",
    "                        for question in questions:\n",
    "                            question_answers=question.find_elements(By.CSS_SELECTOR,\"div.th-quiz__radio_button .th-quiz__item-text\")\n",
    "                            question_options=question.find_elements(By.CSS_SELECTOR,\"div.th-quiz__radio_button input\")\n",
    "                            if(len(question_options) > oIndex):\n",
    "                                if(question_options[oIndex].get_attribute(\"disabled\")):\n",
    "                                    # print(\"Skipping. Answer found!\")\n",
    "                                    qDone=qDone+1\n",
    "                                else:\n",
    "                                    qAnswers[qIndex] = question_answers[oIndex].text\n",
    "                                    qOptions[qIndex] = oIndex\n",
    "                                    question_options[oIndex].click()\n",
    "                            else:\n",
    "                                print(\"couldn't select an answer for the question\")\n",
    "                            qIndex = qIndex+1\n",
    "                        \n",
    "                        #print(\"submit!!! \" + str(oIndex) +\"/q \" +str(qDone) + \"/i \" +str(qIndex))\n",
    "                        oIndex = oIndex+1\n",
    "                        wait.until(EC.element_to_be_clickable((By.CLASS_NAME,\"th-button--success\")))\n",
    "                        submitBtn=driver.find_element(By.XPATH,\"//button[@type='submit']\")\n",
    "                        submitBtn.click()\n",
    "                        time.sleep(5)\n",
    "                except NoSuchElementException:\n",
    "                    try:\n",
    "                        nextUnitQuiz=driver.find_element(By.XPATH,\"//div[@class='th-challenge-complete__footer']//a\").text\n",
    "                        trail[\"Done\"] = \"Done\"\n",
    "                        print(\"Next Unit: \" + nextUnitQuiz)\n",
    "                    except NoSuchElementException:\n",
    "                        trail[\"Done\"] = \"Skip\"\n",
    "                        print(\"Skipping this unit (Hands-On found)\")\n",
    "                except StaleElementReferenceException:\n",
    "                    print(\"moving on\")\n",
    "                \n",
    "                # update answers\n",
    "                if (trail[\"Done\"] == \"False\") or (trail[\"Done\"] == \"Skip\"):\n",
    "                    unit[\"Questions\"]=[{\"Question\":q,\"Option\":o,\"Answer\":a} for\n",
    "                      q,o,a in zip(qQuestions,qOptions,qAnswers)]\n",
    "            # save as we go, just in case\n",
    "            with open('trails.json', 'w+') as outfile:\n",
    "                json.dump(trails_json, outfile)\n",
    "\n",
    "                \n",
    "    print(\"trails.json updated with answers info\")\n",
    "    return trails_json"
   ]
  },
  {
   "cell_type": "code",
   "execution_count": 8,
   "metadata": {},
   "outputs": [
    {
     "ename": "WebDriverException",
     "evalue": "Message: Reached error page: about:neterror?e=netTimeout&u=https%3A//trailhead.salesforce.com/en/modules&c=UTF-8&f=regular&d=The%20server%20at%20trailhead.salesforce.com%20is%20taking%20too%20long%20to%20respond.\n",
     "output_type": "error",
     "traceback": [
      "\u001b[0;31m---------------------------------------------------------------------------\u001b[0m",
      "\u001b[0;31mWebDriverException\u001b[0m                        Traceback (most recent call last)",
      "\u001b[0;32m<ipython-input-8-031a5dea6240>\u001b[0m in \u001b[0;36m<module>\u001b[0;34m()\u001b[0m\n\u001b[1;32m      2\u001b[0m \u001b[0;34m\u001b[0m\u001b[0m\n\u001b[1;32m      3\u001b[0m \u001b[0murl\u001b[0m \u001b[0;34m=\u001b[0m \u001b[0mos\u001b[0m\u001b[0;34m.\u001b[0m\u001b[0menviron\u001b[0m\u001b[0;34m[\u001b[0m\u001b[0;34m'TRAILHEAD_MODULES'\u001b[0m\u001b[0;34m]\u001b[0m\u001b[0;34m\u001b[0m\u001b[0m\n\u001b[0;32m----> 4\u001b[0;31m \u001b[0mdriver\u001b[0m\u001b[0;34m.\u001b[0m\u001b[0mget\u001b[0m\u001b[0;34m(\u001b[0m\u001b[0murl\u001b[0m\u001b[0;34m)\u001b[0m\u001b[0;34m\u001b[0m\u001b[0m\n\u001b[0m\u001b[1;32m      5\u001b[0m \u001b[0mgoogleLogin\u001b[0m\u001b[0;34m(\u001b[0m\u001b[0mdriver\u001b[0m\u001b[0;34m)\u001b[0m\u001b[0;34m\u001b[0m\u001b[0m\n\u001b[1;32m      6\u001b[0m \u001b[0mwait\u001b[0m\u001b[0;34m.\u001b[0m\u001b[0muntil\u001b[0m\u001b[0;34m(\u001b[0m\u001b[0mEC\u001b[0m\u001b[0;34m.\u001b[0m\u001b[0mpresence_of_element_located\u001b[0m\u001b[0;34m(\u001b[0m\u001b[0;34m(\u001b[0m\u001b[0mBy\u001b[0m\u001b[0;34m.\u001b[0m\u001b[0mXPATH\u001b[0m\u001b[0;34m,\u001b[0m\u001b[0;34m\"//div[@data-test='header-account-name']\"\u001b[0m\u001b[0;34m)\u001b[0m\u001b[0;34m)\u001b[0m\u001b[0;34m)\u001b[0m\u001b[0;34m\u001b[0m\u001b[0m\n",
      "\u001b[0;32m/home/sachi/miniconda3/lib/python3.6/site-packages/selenium/webdriver/remote/webdriver.py\u001b[0m in \u001b[0;36mget\u001b[0;34m(self, url)\u001b[0m\n\u001b[1;32m    331\u001b[0m         \u001b[0mLoads\u001b[0m \u001b[0ma\u001b[0m \u001b[0mweb\u001b[0m \u001b[0mpage\u001b[0m \u001b[0;32min\u001b[0m \u001b[0mthe\u001b[0m \u001b[0mcurrent\u001b[0m \u001b[0mbrowser\u001b[0m \u001b[0msession\u001b[0m\u001b[0;34m.\u001b[0m\u001b[0;34m\u001b[0m\u001b[0m\n\u001b[1;32m    332\u001b[0m         \"\"\"\n\u001b[0;32m--> 333\u001b[0;31m         \u001b[0mself\u001b[0m\u001b[0;34m.\u001b[0m\u001b[0mexecute\u001b[0m\u001b[0;34m(\u001b[0m\u001b[0mCommand\u001b[0m\u001b[0;34m.\u001b[0m\u001b[0mGET\u001b[0m\u001b[0;34m,\u001b[0m \u001b[0;34m{\u001b[0m\u001b[0;34m'url'\u001b[0m\u001b[0;34m:\u001b[0m \u001b[0murl\u001b[0m\u001b[0;34m}\u001b[0m\u001b[0;34m)\u001b[0m\u001b[0;34m\u001b[0m\u001b[0m\n\u001b[0m\u001b[1;32m    334\u001b[0m \u001b[0;34m\u001b[0m\u001b[0m\n\u001b[1;32m    335\u001b[0m     \u001b[0;34m@\u001b[0m\u001b[0mproperty\u001b[0m\u001b[0;34m\u001b[0m\u001b[0m\n",
      "\u001b[0;32m/home/sachi/miniconda3/lib/python3.6/site-packages/selenium/webdriver/remote/webdriver.py\u001b[0m in \u001b[0;36mexecute\u001b[0;34m(self, driver_command, params)\u001b[0m\n\u001b[1;32m    319\u001b[0m         \u001b[0mresponse\u001b[0m \u001b[0;34m=\u001b[0m \u001b[0mself\u001b[0m\u001b[0;34m.\u001b[0m\u001b[0mcommand_executor\u001b[0m\u001b[0;34m.\u001b[0m\u001b[0mexecute\u001b[0m\u001b[0;34m(\u001b[0m\u001b[0mdriver_command\u001b[0m\u001b[0;34m,\u001b[0m \u001b[0mparams\u001b[0m\u001b[0;34m)\u001b[0m\u001b[0;34m\u001b[0m\u001b[0m\n\u001b[1;32m    320\u001b[0m         \u001b[0;32mif\u001b[0m \u001b[0mresponse\u001b[0m\u001b[0;34m:\u001b[0m\u001b[0;34m\u001b[0m\u001b[0m\n\u001b[0;32m--> 321\u001b[0;31m             \u001b[0mself\u001b[0m\u001b[0;34m.\u001b[0m\u001b[0merror_handler\u001b[0m\u001b[0;34m.\u001b[0m\u001b[0mcheck_response\u001b[0m\u001b[0;34m(\u001b[0m\u001b[0mresponse\u001b[0m\u001b[0;34m)\u001b[0m\u001b[0;34m\u001b[0m\u001b[0m\n\u001b[0m\u001b[1;32m    322\u001b[0m             response['value'] = self._unwrap_value(\n\u001b[1;32m    323\u001b[0m                 response.get('value', None))\n",
      "\u001b[0;32m/home/sachi/miniconda3/lib/python3.6/site-packages/selenium/webdriver/remote/errorhandler.py\u001b[0m in \u001b[0;36mcheck_response\u001b[0;34m(self, response)\u001b[0m\n\u001b[1;32m    240\u001b[0m                 \u001b[0malert_text\u001b[0m \u001b[0;34m=\u001b[0m \u001b[0mvalue\u001b[0m\u001b[0;34m[\u001b[0m\u001b[0;34m'alert'\u001b[0m\u001b[0;34m]\u001b[0m\u001b[0;34m.\u001b[0m\u001b[0mget\u001b[0m\u001b[0;34m(\u001b[0m\u001b[0;34m'text'\u001b[0m\u001b[0;34m)\u001b[0m\u001b[0;34m\u001b[0m\u001b[0m\n\u001b[1;32m    241\u001b[0m             \u001b[0;32mraise\u001b[0m \u001b[0mexception_class\u001b[0m\u001b[0;34m(\u001b[0m\u001b[0mmessage\u001b[0m\u001b[0;34m,\u001b[0m \u001b[0mscreen\u001b[0m\u001b[0;34m,\u001b[0m \u001b[0mstacktrace\u001b[0m\u001b[0;34m,\u001b[0m \u001b[0malert_text\u001b[0m\u001b[0;34m)\u001b[0m\u001b[0;34m\u001b[0m\u001b[0m\n\u001b[0;32m--> 242\u001b[0;31m         \u001b[0;32mraise\u001b[0m \u001b[0mexception_class\u001b[0m\u001b[0;34m(\u001b[0m\u001b[0mmessage\u001b[0m\u001b[0;34m,\u001b[0m \u001b[0mscreen\u001b[0m\u001b[0;34m,\u001b[0m \u001b[0mstacktrace\u001b[0m\u001b[0;34m)\u001b[0m\u001b[0;34m\u001b[0m\u001b[0m\n\u001b[0m\u001b[1;32m    243\u001b[0m \u001b[0;34m\u001b[0m\u001b[0m\n\u001b[1;32m    244\u001b[0m     \u001b[0;32mdef\u001b[0m \u001b[0m_value_or_default\u001b[0m\u001b[0;34m(\u001b[0m\u001b[0mself\u001b[0m\u001b[0;34m,\u001b[0m \u001b[0mobj\u001b[0m\u001b[0;34m,\u001b[0m \u001b[0mkey\u001b[0m\u001b[0;34m,\u001b[0m \u001b[0mdefault\u001b[0m\u001b[0;34m)\u001b[0m\u001b[0;34m:\u001b[0m\u001b[0;34m\u001b[0m\u001b[0m\n",
      "\u001b[0;31mWebDriverException\u001b[0m: Message: Reached error page: about:neterror?e=netTimeout&u=https%3A//trailhead.salesforce.com/en/modules&c=UTF-8&f=regular&d=The%20server%20at%20trailhead.salesforce.com%20is%20taking%20too%20long%20to%20respond.\n"
     ]
    }
   ],
   "source": [
    "# MAIN\n",
    "\n",
    "url = os.environ['TRAILHEAD_MODULES']\n",
    "driver.get(url)\n",
    "googleLogin(driver)\n",
    "wait.until(EC.presence_of_element_located((By.XPATH,\"//div[@data-test='header-account-name']\")))\n",
    "\n",
    "# OPTION 1: If you have never gathered the list of modules and units, use this:\n",
    "#modules_json = crawlModules(driver)\n",
    "#units_json = crawlUnits(driver,modules_json)\n",
    "\n",
    "# OPTION 2: If you rather start from a json file, use this:\n",
    "with open('trails.json', 'r') as readfile:\n",
    "    units_json = json.load(readfile)\n",
    "\n",
    "# call the answering bot function\n",
    "trails_json=answerUnits(driver,units_json)\n",
    "\n",
    "print (\"DONE!\")\n"
   ]
  }
 ],
 "metadata": {
  "kernelspec": {
   "display_name": "Python 3",
   "language": "python",
   "name": "python3"
  },
  "language_info": {
   "codemirror_mode": {
    "name": "ipython",
    "version": 3
   },
   "file_extension": ".py",
   "mimetype": "text/x-python",
   "name": "python",
   "nbconvert_exporter": "python",
   "pygments_lexer": "ipython3",
   "version": "3.6.0"
  }
 },
 "nbformat": 4,
 "nbformat_minor": 2
}
